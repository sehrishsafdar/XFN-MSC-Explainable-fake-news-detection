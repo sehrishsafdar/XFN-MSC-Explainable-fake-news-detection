{
  "cells": [
    {
      "cell_type": "code",
      "execution_count": 1,
      "metadata": {
        "id": "Xeb5GPkGxnIc"
      },
      "outputs": [],
      "source": [
        "import numpy as np\n",
        "import pandas as pd\n",
        "import tensorflow as tf\n",
        "from tensorflow.keras.models import Model\n",
        "from tensorflow.keras.layers import Input, Embedding, Conv1D, MaxPooling1D, LSTM, Dense, Dropout, Flatten, Concatenate\n",
        "from tensorflow.keras.preprocessing.text import Tokenizer\n",
        "from tensorflow.keras.preprocessing.sequence import pad_sequences\n",
        "from sklearn.model_selection import train_test_split\n",
        "from sklearn.preprocessing import LabelEncoder\n",
        "from sklearn.decomposition import PCA\n",
        "from sklearn.feature_selection import chi2, SelectKBest\n",
        "from sklearn.metrics import classification_report"
      ]
    },
    {
      "cell_type": "code",
      "execution_count": 2,
      "metadata": {
        "id": "AkM_dLsfx2Ad"
      },
      "outputs": [],
      "source": [
        "# Load and preprocess dataset\n",
        "file_path = '/content/AMMUSED (1).csv'\n",
        "data = pd.read_csv(file_path)\n",
        "data = data[['title', 'comment', 'label_y', 'label_x']].dropna()"
      ]
    },
    {
      "cell_type": "code",
      "execution_count": 3,
      "metadata": {
        "id": "xqLIdoHGyCW2"
      },
      "outputs": [],
      "source": [
        "# Encode labels\n",
        "stance_encoder = LabelEncoder()\n",
        "data['stance_label'] = stance_encoder.fit_transform(data['label_y'])\n",
        "fake_news_encoder = LabelEncoder()\n",
        "data['fake_news_label'] = fake_news_encoder.fit_transform(data['label_x'])"
      ]
    },
    {
      "cell_type": "code",
      "execution_count": 4,
      "metadata": {
        "id": "YIiMH19qyDaH"
      },
      "outputs": [],
      "source": [
        "# Combine title and comment for text inputs\n",
        "data['combined_text'] = data['title'] + \" \" + data['comment']"
      ]
    },
    {
      "cell_type": "code",
      "execution_count": 5,
      "metadata": {
        "id": "_FOBIimiyGWe"
      },
      "outputs": [],
      "source": [
        "# Split data\n",
        "X = data['combined_text']\n",
        "y_stance = data['stance_label']\n",
        "y_fake_news = data['fake_news_label']\n",
        "\n",
        "X_train, X_test, y_stance_train, y_stance_test = train_test_split(X, y_stance, test_size=0.2, random_state=42)\n",
        "_, _, y_fake_news_train, y_fake_news_test = train_test_split(X, y_fake_news, test_size=0.2, random_state=42)"
      ]
    },
    {
      "cell_type": "code",
      "execution_count": 6,
      "metadata": {
        "id": "i9ExtavfyJuL"
      },
      "outputs": [],
      "source": [
        "# Tokenize and pad sequences\n",
        "MAX_VOCAB_SIZE = 5000\n",
        "MAX_SEQUENCE_LENGTH = 100\n",
        "EMBEDDING_DIM = 50\n",
        "\n",
        "tokenizer = Tokenizer(num_words=MAX_VOCAB_SIZE)\n",
        "tokenizer.fit_on_texts(X_train)\n",
        "\n",
        "X_train_seq = tokenizer.texts_to_sequences(X_train)\n",
        "X_test_seq = tokenizer.texts_to_sequences(X_test)\n",
        "\n",
        "X_train_padded = pad_sequences(X_train_seq, maxlen=MAX_SEQUENCE_LENGTH, padding='post')\n",
        "X_test_padded = pad_sequences(X_test_seq, maxlen=MAX_SEQUENCE_LENGTH, padding='post')"
      ]
    },
    {
      "cell_type": "code",
      "execution_count": 7,
      "metadata": {
        "id": "H2ixdWOXyOjo"
      },
      "outputs": [],
      "source": [
        "# Feature Reduction using PCA\n",
        "pca = PCA(n_components=50)\n",
        "X_train_pca = pca.fit_transform(X_train_padded)\n",
        "X_test_pca = pca.transform(X_test_padded)"
      ]
    },
    {
      "cell_type": "code",
      "execution_count": 29,
      "metadata": {
        "id": "NUM016QLySzR"
      },
      "outputs": [],
      "source": [
        "# Modified build_cnn_lstm_model function (reduced complexity)\n",
        "def build_cnn_lstm_model(input_dim, embedding_dim, input_length, num_classes):\n",
        "    input_layer = Input(shape=(input_length,))\n",
        "    embedding_layer = Embedding(input_dim=input_dim, output_dim=embedding_dim, input_length=input_length)(input_layer)\n",
        "    # Removed CNN layer\n",
        "    # cnn_layer = Conv1D(64, kernel_size=3, activation='relu')(embedding_layer)\n",
        "    # pooling_layer = MaxPooling1D(pool_size=2)(cnn_layer)\n",
        "    # flatten_layer = Flatten()(pooling_layer)\n",
        "    lstm_layer = LSTM(50)(embedding_layer)  # Reduced LSTM units\n",
        "    # concatenated = Concatenate()([flatten_layer, lstm_layer])\n",
        "    dropout_layer = Dropout(0.7)(lstm_layer)  # Increased dropout rate\n",
        "    dense_layer = Dense(32, activation='relu')(dropout_layer)  # Reduced dense layer units\n",
        "    output_layer = Dense(num_classes, activation='softmax')(dense_layer)\n",
        "    model = Model(inputs=input_layer, outputs=output_layer)\n",
        "    model.compile(optimizer='adam', loss='sparse_categorical_crossentropy', metrics=['accuracy'])\n",
        "    return model\n"
      ]
    },
    {
      "cell_type": "code",
      "execution_count": 9,
      "metadata": {
        "colab": {
          "base_uri": "https://localhost:8080/"
        },
        "id": "v7UjwDThyW_E",
        "outputId": "3265a223-ff1f-402a-a1ea-31cbc5498218"
      },
      "outputs": [
        {
          "name": "stderr",
          "output_type": "stream",
          "text": [
            "/usr/local/lib/python3.10/dist-packages/keras/src/layers/core/embedding.py:90: UserWarning: Argument `input_length` is deprecated. Just remove it.\n",
            "  warnings.warn(\n"
          ]
        }
      ],
      "source": [
        "stance_model = build_cnn_lstm_model(MAX_VOCAB_SIZE, EMBEDDING_DIM, MAX_SEQUENCE_LENGTH, len(stance_encoder.classes_))"
      ]
    },
    {
      "cell_type": "code",
      "execution_count": 32,
      "metadata": {
        "id": "GK3oxjlOEC7g"
      },
      "outputs": [],
      "source": [
        "from tensorflow.keras.callbacks import EarlyStopping\n",
        "# Early stopping callback\n",
        "early_stopping = EarlyStopping(monitor='val_loss', patience=2)"
      ]
    },
    {
      "cell_type": "code",
      "execution_count": 34,
      "metadata": {
        "colab": {
          "base_uri": "https://localhost:8080/"
        },
        "id": "WNntTLOsybb7",
        "outputId": "4402b5ce-88d2-40f3-e818-4c4605773286"
      },
      "outputs": [
        {
          "name": "stdout",
          "output_type": "stream",
          "text": [
            "\u001b[1m396/396\u001b[0m \u001b[32m━━━━━━━━━━━━━━━━━━━━\u001b[0m\u001b[37m\u001b[0m \u001b[1m51s\u001b[0m 128ms/step - accuracy: 0.7949 - loss: 0.5150 - val_accuracy: 0.6797 - val_loss: 0.9009\n"
          ]
        },
        {
          "data": {
            "text/plain": [
              "<keras.src.callbacks.history.History at 0x7f417b2d7280>"
            ]
          },
          "execution_count": 34,
          "metadata": {},
          "output_type": "execute_result"
        }
      ],
      "source": [
        "\n",
        "stance_model.fit(\n",
        "    X_train_padded[:len(X_train_padded)], y_stance_train[:len(y_stance_train)], \n",
        "    epochs=5,\n",
        "    batch_size=32,\n",
        "    validation_data=(X_test_padded, y_stance_test),\n",
        "    verbose=1,\n",
        "    callbacks=[early_stopping]  \n",
        ")"
      ]
    },
    {
      "cell_type": "code",
      "execution_count": 35,
      "metadata": {
        "colab": {
          "base_uri": "https://localhost:8080/"
        },
        "id": "QRCeqSLh8RNl",
        "outputId": "d424bc07-eb75-4f82-9055-a1543bc664c9"
      },
      "outputs": [
        {
          "name": "stdout",
          "output_type": "stream",
          "text": [
            "Stance Detection Classification Report:\n",
            "              precision    recall  f1-score   support\n",
            "\n",
            "       agree       0.74      0.58      0.65      2273\n",
            "     comment       0.66      0.85      0.74      3147\n",
            "    disagree       0.55      0.41      0.47       478\n",
            "       query       0.54      0.17      0.26       424\n",
            "\n",
            "    accuracy                           0.67      6322\n",
            "   macro avg       0.62      0.50      0.53      6322\n",
            "weighted avg       0.67      0.67      0.65      6322\n",
            "\n",
            "Stance Detection Accuracy (Test Data): 0.6726\n"
          ]
        }
      ],
      "source": [
        "# Evaluate Stance Detection\n",
        "print(\"Stance Detection Classification Report:\")\n",
        "report_stance = classification_report(y_stance_test, stance_predicted_classes, target_names=stance_encoder.classes_, output_dict=True)\n",
        "print(classification_report(y_stance_test, stance_predicted_classes, target_names=stance_encoder.classes_))\n",
        "print(f\"Stance Detection Accuracy (Test Data): {report_stance['accuracy']:.4f}\")  # Print test accuracy\n",
        "\n"
      ]
    },
    {
      "cell_type": "code",
      "execution_count": 36,
      "metadata": {
        "colab": {
          "base_uri": "https://localhost:8080/"
        },
        "id": "LOYh1jxt8cnb",
        "outputId": "a03465d0-53d6-4419-fc86-dedf01f1fae6"
      },
      "outputs": [
        {
          "name": "stdout",
          "output_type": "stream",
          "text": [
            "Stance Detection Classification Report:\n",
            "              precision    recall  f1-score   support\n",
            "\n",
            "       agree       0.74      0.58      0.65      2273\n",
            "     comment       0.66      0.85      0.74      3147\n",
            "    disagree       0.55      0.41      0.47       478\n",
            "       query       0.54      0.17      0.26       424\n",
            "\n",
            "    accuracy                           0.67      6322\n",
            "   macro avg       0.62      0.50      0.53      6322\n",
            "weighted avg       0.67      0.67      0.65      6322\n",
            "\n"
          ]
        }
      ],
      "source": [
        "# Evaluate Stance Detection\n",
        "print(\"Stance Detection Classification Report:\")\n",
        "print(classification_report(y_stance_test, stance_predicted_classes, target_names=stance_encoder.classes_))\n"
      ]
    },
    {
      "cell_type": "code",
      "execution_count": 42,
      "metadata": {
        "colab": {
          "base_uri": "https://localhost:8080/"
        },
        "id": "idazqbvr8oXq",
        "outputId": "971fdd84-cc00-4ce8-d25e-3b4d30bac77e"
      },
      "outputs": [
        {
          "name": "stdout",
          "output_type": "stream",
          "text": [
            "\u001b[1m396/396\u001b[0m \u001b[32m━━━━━━━━━━━━━━━━━━━━\u001b[0m\u001b[37m\u001b[0m \u001b[1m37s\u001b[0m 88ms/step - accuracy: 0.6411 - loss: 0.6258 - val_accuracy: 0.6610 - val_loss: 0.5351\n"
          ]
        },
        {
          "data": {
            "text/plain": [
              "<keras.src.callbacks.history.History at 0x7f416264e5c0>"
            ]
          },
          "execution_count": 42,
          "metadata": {},
          "output_type": "execute_result"
        }
      ],
      "source": [
        "# Fake News Detection\n",
        "X_fake_news_train = np.hstack([X_train_padded, y_stance_train.values.reshape(-1, 1)])\n",
        "X_fake_news_test = np.hstack([X_test_padded, stance_predicted_classes.reshape(-1, 1)])\n",
        "\n",
        "fake_news_model = build_cnn_lstm_model(MAX_VOCAB_SIZE + 1, EMBEDDING_DIM, X_fake_news_train.shape[1], len(fake_news_encoder.classes_))\n",
        "\n",
        "fake_news_model.layers[1].units = 25\n",
        "fake_news_model.layers[3].units = 50\n",
        "fake_news_model.layers[4].rate = 0.8\n",
        "fake_news_model.layers[5].units = 16\n",
        "\n",
        "early_stopping_fake_news = EarlyStopping(monitor='val_loss', patience=2)\n",
        "\n",
        "fake_news_model.fit(\n",
        "    X_fake_news_train[:len(X_fake_news_train)//2], y_fake_news_train[:len(y_fake_news_train)//2],  \n",
        "    epochs=5,\n",
        "    batch_size=32,\n",
        "    validation_data=(X_fake_news_test, y_fake_news_test),\n",
        "    verbose=1,\n",
        "    callbacks=[early_stopping_fake_news]  \n",
        ")"
      ]
    },
    {
      "cell_type": "code",
      "execution_count": 43,
      "metadata": {
        "colab": {
          "base_uri": "https://localhost:8080/"
        },
        "id": "VowsuhOa8sI_",
        "outputId": "6db68310-a087-473b-f444-67a736008833"
      },
      "outputs": [
        {
          "name": "stdout",
          "output_type": "stream",
          "text": [
            "\u001b[1m198/198\u001b[0m \u001b[32m━━━━━━━━━━━━━━━━━━━━\u001b[0m\u001b[37m\u001b[0m \u001b[1m8s\u001b[0m 40ms/step\n"
          ]
        }
      ],
      "source": [
        "# Fake News Detection Predictions\n",
        "fake_news_predictions = fake_news_model.predict(X_fake_news_test)\n",
        "fake_news_predicted_classes = np.argmax(fake_news_predictions, axis=1)"
      ]
    },
    {
      "cell_type": "code",
      "execution_count": 44,
      "metadata": {
        "colab": {
          "base_uri": "https://localhost:8080/"
        },
        "id": "qbI1-p6p8vgB",
        "outputId": "13ba9cf6-e313-408d-eaa5-b0a4a1342fa0"
      },
      "outputs": [
        {
          "name": "stdout",
          "output_type": "stream",
          "text": [
            "Fake News Detection Classification Report:\n",
            "              precision    recall  f1-score   support\n",
            "\n",
            "       False       0.87      0.06      0.12      2267\n",
            "        True       0.66      0.99      0.79      4055\n",
            "\n",
            "    accuracy                           0.66      6322\n",
            "   macro avg       0.76      0.53      0.45      6322\n",
            "weighted avg       0.73      0.66      0.55      6322\n",
            "\n",
            "Fake News Detection Accuracy (Test Data): 0.6610\n"
          ]
        }
      ],
      "source": [
        " #Evaluate Fake News Detection\n",
        "print(\"Fake News Detection Classification Report:\")\n",
        "target_names = [str(class_name) for class_name in fake_news_encoder.classes_]\n",
        "report_fake_news = classification_report(y_fake_news_test, fake_news_predicted_classes, target_names=target_names, output_dict=True)\n",
        "print(classification_report(y_fake_news_test, fake_news_predicted_classes, target_names=target_names))\n",
        "print(f\"Fake News Detection Accuracy (Test Data): {report_fake_news['accuracy']:.4f}\")  # Print test accuracy"
      ]
    }
  ],
  "metadata": {
    "colab": {
      "provenance": []
    },
    "kernelspec": {
      "display_name": "Python 3",
      "name": "python3"
    },
    "language_info": {
      "name": "python"
    }
  },
  "nbformat": 4,
  "nbformat_minor": 0
}
