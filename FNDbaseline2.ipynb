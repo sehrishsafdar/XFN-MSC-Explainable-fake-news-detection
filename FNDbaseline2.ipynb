{
  "nbformat": 4,
  "nbformat_minor": 0,
  "metadata": {
    "colab": {
      "provenance": []
    },
    "kernelspec": {
      "name": "python3",
      "display_name": "Python 3"
    },
    "language_info": {
      "name": "python"
    }
  },
  "cells": [
    {
      "cell_type": "code",
      "source": [
        "import tensorflow as tf"
      ],
      "metadata": {
        "id": "el6djukmF18e"
      },
      "execution_count": 62,
      "outputs": []
    },
    {
      "cell_type": "code",
      "source": [
        "import pandas as pd\n",
        "import numpy as np\n",
        "import re\n",
        "from sklearn.model_selection import train_test_split\n",
        "from sklearn.preprocessing import LabelEncoder\n",
        "from sklearn.feature_extraction.text import TfidfVectorizer\n",
        "from tensorflow.keras.models import Model\n",
        "from tensorflow.keras.layers import Input, Embedding, Bidirectional, LSTM, Dense, Attention, Concatenate\n",
        "from tensorflow.keras.optimizers import Adam\n",
        "from sklearn.metrics import classification_report, accuracy_score\n",
        "from nltk.tokenize import word_tokenize\n",
        "from nltk.corpus import stopwords\n",
        "import nltk\n",
        "\n",
        "\n"
      ],
      "metadata": {
        "id": "APJery8fFCxq"
      },
      "execution_count": 63,
      "outputs": []
    },
    {
      "cell_type": "code",
      "source": [
        "\n",
        "nltk.download('punkt')\n",
        "nltk.download('stopwords')\n",
        "data = pd.read_csv(\"AMMUSED (1).csv\")\n",
        "\n"
      ],
      "metadata": {
        "colab": {
          "base_uri": "https://localhost:8080/"
        },
        "id": "HN7_NPj4F6us",
        "outputId": "e4653a72-e58c-4fbc-bc33-f4c2c52c69a4"
      },
      "execution_count": 64,
      "outputs": [
        {
          "output_type": "stream",
          "name": "stderr",
          "text": [
            "[nltk_data] Downloading package punkt to /root/nltk_data...\n",
            "[nltk_data]   Package punkt is already up-to-date!\n",
            "[nltk_data] Downloading package stopwords to /root/nltk_data...\n",
            "[nltk_data]   Package stopwords is already up-to-date!\n"
          ]
        }
      ]
    },
    {
      "cell_type": "code",
      "source": [
        "\n",
        "def preprocess_text(text):\n",
        "    text = text.lower()\n",
        "    text = re.sub(r'http\\S+', '', text)\n",
        "    text = re.sub(r'[^a-zA-Z\\s]', '', text)\n",
        "    tokens = word_tokenize(text)\n",
        "    stop_words = set(stopwords.words('english'))\n",
        "    tokens = [word for word in tokens if word not in stop_words]\n",
        "    return ' '.join(tokens)\n",
        "\n",
        "# Apply preprocessing\n",
        "data['processed_text'] = data['title'].apply(preprocess_text)\n",
        "\n"
      ],
      "metadata": {
        "id": "D_KCFO7CGAVK"
      },
      "execution_count": 65,
      "outputs": []
    },
    {
      "cell_type": "code",
      "source": [
        "# TF-IDF Vectorization\n",
        "tfidf_vectorizer = TfidfVectorizer(max_features=5000)\n",
        "X_text = tfidf_vectorizer.fit_transform(data['processed_text']).toarray()\n",
        "\n"
      ],
      "metadata": {
        "id": "Cyl6qVU_GE0H"
      },
      "execution_count": 66,
      "outputs": []
    },
    {
      "cell_type": "code",
      "source": [
        "\n",
        "data['text_length'] = data['processed_text'].apply(len)\n",
        "data['hashtag_count'] = data['processed_text'].apply(lambda x: x.count('#'))\n",
        "data['url_count'] = data['title'].apply(lambda x: x.count('http'))\n",
        "\n"
      ],
      "metadata": {
        "id": "zjEpip75GJmA"
      },
      "execution_count": 67,
      "outputs": []
    },
    {
      "cell_type": "code",
      "source": [
        "\n",
        "X_features = np.hstack((X_text, data[['text_length', 'hashtag_count', 'url_count']].values))\n",
        "\n"
      ],
      "metadata": {
        "id": "66fPHrAGGNZt"
      },
      "execution_count": 68,
      "outputs": []
    },
    {
      "cell_type": "code",
      "source": [
        "\n",
        "label_encoder = LabelEncoder()\n",
        "y = label_encoder.fit_transform(data['label_x'])\n",
        "\n"
      ],
      "metadata": {
        "id": "zaK7piGqGQx5"
      },
      "execution_count": 69,
      "outputs": []
    },
    {
      "cell_type": "code",
      "source": [
        "\n",
        "X_train, X_test, y_train, y_test = train_test_split(X_features, y, test_size=0.3, random_state=42)\n",
        "\n"
      ],
      "metadata": {
        "id": "J0RU_zRfGUb_"
      },
      "execution_count": 70,
      "outputs": []
    },
    {
      "cell_type": "code",
      "source": [
        "def build_mbi_lstm_model(input_dim):\n",
        "    inputs = Input(shape=(input_dim,))\n",
        "\n",
        "    # Attention Layer\n",
        "    x = Dense(128, activation='relu')(inputs)\n",
        "    attention = Dense(1, activation='tanh')(x)\n",
        "    attention = Dense(4, activation='softmax')(attention)\n",
        "    x = Concatenate()([x, attention])\n",
        "    x = tf.keras.layers.Reshape((128, x.shape[1]))(x)\n",
        "    lstm_out = Bidirectional(LSTM(64, return_sequences=False))(x)\n",
        "    outputs = Dense(len(np.unique(y)), activation='softmax')(lstm_out)\n",
        "\n",
        "    model = Model(inputs, outputs)\n",
        "    model.compile(optimizer=Adam(learning_rate=0.001), loss='sparse_categorical_crossentropy', metrics=['accuracy'])\n",
        "    return model\n",
        "\n"
      ],
      "metadata": {
        "id": "ldAu7rCYGXKh"
      },
      "execution_count": 81,
      "outputs": []
    },
    {
      "cell_type": "code",
      "source": [
        "# Build and train model\n",
        "model = build_mbi_lstm_model(X_train.shape[1])\n",
        "model.fit(X_train, y_train, batch_size=32, epochs=5, validation_split=0.2)\n",
        "\n"
      ],
      "metadata": {
        "colab": {
          "base_uri": "https://localhost:8080/"
        },
        "id": "CvZBO0sjGaa2",
        "outputId": "4ca45bd3-aba1-459a-e3a7-3e38de76bef2"
      },
      "execution_count": 82,
      "outputs": [
        {
          "output_type": "stream",
          "name": "stdout",
          "text": [
            "Epoch 1/5\n",
            "\u001b[1m70/70\u001b[0m \u001b[32m━━━━━━━━━━━━━━━━━━━━\u001b[0m\u001b[37m\u001b[0m \u001b[1m5s\u001b[0m 26ms/step - accuracy: 0.6306 - loss: 0.6564 - val_accuracy: 0.6878 - val_loss: 0.6181\n",
            "Epoch 2/5\n",
            "\u001b[1m70/70\u001b[0m \u001b[32m━━━━━━━━━━━━━━━━━━━━\u001b[0m\u001b[37m\u001b[0m \u001b[1m1s\u001b[0m 20ms/step - accuracy: 0.6752 - loss: 0.6312 - val_accuracy: 0.6878 - val_loss: 0.6173\n",
            "Epoch 3/5\n",
            "\u001b[1m70/70\u001b[0m \u001b[32m━━━━━━━━━━━━━━━━━━━━\u001b[0m\u001b[37m\u001b[0m \u001b[1m2s\u001b[0m 33ms/step - accuracy: 0.6752 - loss: 0.6290 - val_accuracy: 0.6878 - val_loss: 0.6222\n",
            "Epoch 4/5\n",
            "\u001b[1m70/70\u001b[0m \u001b[32m━━━━━━━━━━━━━━━━━━━━\u001b[0m\u001b[37m\u001b[0m \u001b[1m2s\u001b[0m 22ms/step - accuracy: 0.6795 - loss: 0.6265 - val_accuracy: 0.6878 - val_loss: 0.6246\n",
            "Epoch 5/5\n",
            "\u001b[1m70/70\u001b[0m \u001b[32m━━━━━━━━━━━━━━━━━━━━\u001b[0m\u001b[37m\u001b[0m \u001b[1m1s\u001b[0m 18ms/step - accuracy: 0.6760 - loss: 0.6299 - val_accuracy: 0.6878 - val_loss: 0.6183\n"
          ]
        },
        {
          "output_type": "execute_result",
          "data": {
            "text/plain": [
              "<keras.src.callbacks.history.History at 0x7cefe6a45e10>"
            ]
          },
          "metadata": {},
          "execution_count": 82
        }
      ]
    },
    {
      "cell_type": "code",
      "source": [
        "# Evaluate model\n",
        "y_pred = np.argmax(model.predict(X_test), axis=1)\n",
        "print(\"Accuracy:\", accuracy_score(y_test, y_pred))\n",
        "\n",
        "# Convert label_encoder.classes_ to strings if it contains boolean values\n",
        "target_names = [str(class_name) for class_name in label_encoder.classes_]\n",
        "\n",
        "print(classification_report(y_test, y_pred, target_names=target_names)) # Use converted target_names"
      ],
      "metadata": {
        "colab": {
          "base_uri": "https://localhost:8080/"
        },
        "id": "CuX5wSHUGd7y",
        "outputId": "8ce4b63e-242a-407a-be32-a4866d7b8d62"
      },
      "execution_count": 83,
      "outputs": [
        {
          "output_type": "stream",
          "name": "stdout",
          "text": [
            "\u001b[1m298/298\u001b[0m \u001b[32m━━━━━━━━━━━━━━━━━━━━\u001b[0m\u001b[37m\u001b[0m \u001b[1m3s\u001b[0m 8ms/step\n",
            "Accuracy: 0.6749528005034613\n",
            "              precision    recall  f1-score   support\n",
            "\n",
            "       False       0.62      0.26      0.36      3440\n",
            "        True       0.68      0.91      0.78      6094\n",
            "\n",
            "    accuracy                           0.67      9534\n",
            "   macro avg       0.65      0.58      0.57      9534\n",
            "weighted avg       0.66      0.67      0.63      9534\n",
            "\n"
          ]
        }
      ]
    }
  ]
}