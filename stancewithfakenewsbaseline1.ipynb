{
  "nbformat": 4,
  "nbformat_minor": 0,
  "metadata": {
    "colab": {
      "provenance": []
    },
    "kernelspec": {
      "name": "python3",
      "display_name": "Python 3"
    },
    "language_info": {
      "name": "python"
    }
  },
  "cells": [
    {
      "cell_type": "code",
      "execution_count": 1,
      "metadata": {
        "id": "nlYg2SYrqYBb"
      },
      "outputs": [],
      "source": [
        "import numpy as np\n",
        "import pandas as pd\n",
        "import tensorflow as tf\n",
        "from tensorflow.keras.models import Model\n",
        "from tensorflow.keras.layers import Input, Embedding, LSTM, Bidirectional, Dense, Dropout, Concatenate\n",
        "from tensorflow.keras.preprocessing.text import Tokenizer\n",
        "from tensorflow.keras.preprocessing.sequence import pad_sequences\n",
        "from sklearn.model_selection import train_test_split\n",
        "from sklearn.preprocessing import LabelEncoder\n",
        "from sklearn.metrics import classification_report"
      ]
    },
    {
      "cell_type": "code",
      "source": [
        "# Load dataset\n",
        "file_path = '/content/AMMUSED (1).csv'\n",
        "data = pd.read_csv(file_path)"
      ],
      "metadata": {
        "id": "DXLK9JYBqx2O"
      },
      "execution_count": 2,
      "outputs": []
    },
    {
      "cell_type": "code",
      "source": [
        "# Select relevant columns\n",
        "data = data[['title', 'comment', 'label_y', 'label_x']]\n",
        "data = data.dropna()"
      ],
      "metadata": {
        "id": "lvF1MTItrGZL"
      },
      "execution_count": 3,
      "outputs": []
    },
    {
      "cell_type": "code",
      "source": [
        "# Encode labels\n",
        "stance_encoder = LabelEncoder()\n",
        "data['stance_label'] = stance_encoder.fit_transform(data['label_y'])\n",
        "fake_news_encoder = LabelEncoder()\n",
        "\n",
        "# Convert boolean values to strings before fitting the encoder\n",
        "data['label_x'] = data['label_x'].astype(str)\n",
        "\n",
        "data['fake_news_label'] = fake_news_encoder.fit_transform(data['label_x'])  # False=0, True=1"
      ],
      "metadata": {
        "id": "ghWgc-werKI-"
      },
      "execution_count": 4,
      "outputs": []
    },
    {
      "cell_type": "code",
      "source": [
        "# Split data\n",
        "X = data[['title', 'comment']]\n",
        "y_stance = data['stance_label']\n",
        "y_fake_news = data['fake_news_label']\n",
        "\n",
        "X_train, X_test, y_stance_train, y_stance_test = train_test_split(X, y_stance, test_size=0.2, random_state=42)\n",
        "_, _, y_fake_news_train, y_fake_news_test = train_test_split(X, y_fake_news, test_size=0.2, random_state=42)\n"
      ],
      "metadata": {
        "id": "Yuy1ItqBrPFH"
      },
      "execution_count": 5,
      "outputs": []
    },
    {
      "cell_type": "code",
      "source": [
        "# Preprocess text\n",
        "MAX_VOCAB_SIZE = 5000\n",
        "MAX_SEQUENCE_LENGTH = 100\n",
        "EMBEDDING_DIM = 50\n",
        "\n",
        "def preprocess_text(X_train, X_test):\n",
        "    tokenizer = Tokenizer(num_words=MAX_VOCAB_SIZE)\n",
        "    tokenizer.fit_on_texts(X_train['title'] + \" \" + X_train['comment'])\n",
        "\n",
        "    X_train_seq = tokenizer.texts_to_sequences(X_train['title'] + \" \" + X_train['comment'])\n",
        "    X_test_seq = tokenizer.texts_to_sequences(X_test['title'] + \" \" + X_test['comment'])\n",
        "\n",
        "    X_train_padded = pad_sequences(X_train_seq, maxlen=MAX_SEQUENCE_LENGTH, padding='post')\n",
        "    X_test_padded = pad_sequences(X_test_seq, maxlen=MAX_SEQUENCE_LENGTH, padding='post')\n",
        "\n",
        "    return X_train_padded, X_test_padded, tokenizer\n",
        "\n",
        "X_stance_train_padded, X_stance_test_padded, tokenizer = preprocess_text(X_train, X_test)\n"
      ],
      "metadata": {
        "id": "t9xLfV4brTtf"
      },
      "execution_count": 6,
      "outputs": []
    },
    {
      "cell_type": "code",
      "source": [
        "# Build BiLSTM model for stance detection\n",
        "def build_bilstm_model(input_length, vocab_size, embedding_dim, num_classes):\n",
        "    input_layer = Input(shape=(input_length,))\n",
        "    embedding_layer = Embedding(input_dim=vocab_size, output_dim=embedding_dim, input_length=input_length)(input_layer)\n",
        "    lstm_layer = Bidirectional(LSTM(64, return_sequences=False))(embedding_layer)\n",
        "    dropout_layer = Dropout(0.5)(lstm_layer)\n",
        "    output_layer = Dense(num_classes, activation='softmax')(dropout_layer)\n",
        "    model = Model(inputs=input_layer, outputs=output_layer)\n",
        "    model.compile(optimizer='adam', loss='sparse_categorical_crossentropy', metrics=['accuracy'])\n",
        "    return model\n",
        "\n",
        "stance_model = build_bilstm_model(MAX_SEQUENCE_LENGTH, MAX_VOCAB_SIZE, EMBEDDING_DIM, len(stance_encoder.classes_))"
      ],
      "metadata": {
        "colab": {
          "base_uri": "https://localhost:8080/"
        },
        "id": "Kl-vKlVFreO0",
        "outputId": "77694aa0-7b94-493f-e8e3-7eae1c609d25"
      },
      "execution_count": 31,
      "outputs": [
        {
          "output_type": "stream",
          "name": "stderr",
          "text": [
            "/usr/local/lib/python3.10/dist-packages/keras/src/layers/core/embedding.py:90: UserWarning: Argument `input_length` is deprecated. Just remove it.\n",
            "  warnings.warn(\n"
          ]
        }
      ]
    },
    {
      "cell_type": "code",
      "source": [
        "# Train stance detection model\n",
        "stance_model.fit(\n",
        "    X_stance_train_padded, y_stance_train,\n",
        "    epochs=5,\n",
        "    batch_size=32,\n",
        "    validation_data=(X_stance_test_padded, y_stance_test),\n",
        "    verbose=1\n",
        ")"
      ],
      "metadata": {
        "colab": {
          "base_uri": "https://localhost:8080/"
        },
        "id": "Wh5DmFExrgUv",
        "outputId": "c74164ac-ecc6-43b6-d21d-787499ff8f8c"
      },
      "execution_count": 33,
      "outputs": [
        {
          "output_type": "stream",
          "name": "stdout",
          "text": [
            "\u001b[1m791/791\u001b[0m \u001b[32m━━━━━━━━━━━━━━━━━━━━\u001b[0m\u001b[37m\u001b[0m \u001b[1m89s\u001b[0m 113ms/step - accuracy: 0.5908 - loss: 1.0011 - val_accuracy: 0.6401 - val_loss: 0.8837\n"
          ]
        },
        {
          "output_type": "execute_result",
          "data": {
            "text/plain": [
              "<keras.src.callbacks.history.History at 0x7d65c7e1b8e0>"
            ]
          },
          "metadata": {},
          "execution_count": 33
        }
      ]
    },
    {
      "cell_type": "code",
      "source": [
        "# Predict stances\n",
        "stance_predictions = stance_model.predict(X_stance_test_padded)\n",
        "stance_predicted_classes = np.argmax(stance_predictions, axis=1)"
      ],
      "metadata": {
        "colab": {
          "base_uri": "https://localhost:8080/"
        },
        "id": "a_1JBeB7rl6J",
        "outputId": "6663a47c-5fb9-42d0-f842-fe3f32bed580"
      },
      "execution_count": 34,
      "outputs": [
        {
          "output_type": "stream",
          "name": "stdout",
          "text": [
            "\u001b[1m198/198\u001b[0m \u001b[32m━━━━━━━━━━━━━━━━━━━━\u001b[0m\u001b[37m\u001b[0m \u001b[1m7s\u001b[0m 34ms/step\n"
          ]
        }
      ]
    },
    {
      "cell_type": "code",
      "source": [
        "# Evaluate stance detection\n",
        "print(\"Stance Detection Report:\")\n",
        "print(classification_report(y_stance_test, stance_predicted_classes, target_names=stance_encoder.classes_))"
      ],
      "metadata": {
        "colab": {
          "base_uri": "https://localhost:8080/"
        },
        "id": "_hbn5_2tsKzW",
        "outputId": "edb220a2-1c3e-4586-8b57-fe9daed05dbe"
      },
      "execution_count": 35,
      "outputs": [
        {
          "output_type": "stream",
          "name": "stdout",
          "text": [
            "Stance Detection Report:\n",
            "              precision    recall  f1-score   support\n",
            "\n",
            "       agree       0.71      0.54      0.61      2273\n",
            "     comment       0.61      0.87      0.72      3147\n",
            "    disagree       0.77      0.16      0.27       478\n",
            "       query       0.00      0.00      0.00       424\n",
            "\n",
            "    accuracy                           0.64      6322\n",
            "   macro avg       0.52      0.39      0.40      6322\n",
            "weighted avg       0.62      0.64      0.60      6322\n",
            "\n"
          ]
        },
        {
          "output_type": "stream",
          "name": "stderr",
          "text": [
            "/usr/local/lib/python3.10/dist-packages/sklearn/metrics/_classification.py:1531: UndefinedMetricWarning: Precision is ill-defined and being set to 0.0 in labels with no predicted samples. Use `zero_division` parameter to control this behavior.\n",
            "  _warn_prf(average, modifier, f\"{metric.capitalize()} is\", len(result))\n",
            "/usr/local/lib/python3.10/dist-packages/sklearn/metrics/_classification.py:1531: UndefinedMetricWarning: Precision is ill-defined and being set to 0.0 in labels with no predicted samples. Use `zero_division` parameter to control this behavior.\n",
            "  _warn_prf(average, modifier, f\"{metric.capitalize()} is\", len(result))\n",
            "/usr/local/lib/python3.10/dist-packages/sklearn/metrics/_classification.py:1531: UndefinedMetricWarning: Precision is ill-defined and being set to 0.0 in labels with no predicted samples. Use `zero_division` parameter to control this behavior.\n",
            "  _warn_prf(average, modifier, f\"{metric.capitalize()} is\", len(result))\n"
          ]
        }
      ]
    },
    {
      "cell_type": "code",
      "source": [
        "# Add predicted stances as a feature for fake news detection\n",
        "X_fake_news_train_padded = np.hstack([X_stance_train_padded, y_stance_train.values.reshape(-1, 1)])\n",
        "X_fake_news_test_padded = np.hstack([X_stance_test_padded, stance_predicted_classes.reshape(-1, 1)])\n"
      ],
      "metadata": {
        "id": "ZYqb4uT0sQ3e"
      },
      "execution_count": 36,
      "outputs": []
    },
    {
      "cell_type": "code",
      "source": [
        "\n",
        "def build_fake_news_model(input_length, num_classes):\n",
        "    input_layer = Input(shape=(input_length,))\n",
        "    dense_layer = Dense(32, activation='relu')(input_layer)\n",
        "    output_layer = Dense(num_classes, activation='softmax')(dense_layer)\n",
        "    model = Model(inputs=input_layer, outputs=output_layer)\n",
        "    model.compile(optimizer='adam', loss='sparse_categorical_crossentropy', metrics=['accuracy'])\n",
        "    return model\n",
        "\n",
        "fake_news_model = build_fake_news_model(X_fake_news_train_padded.shape[1], len(fake_news_encoder.classes_))\n"
      ],
      "metadata": {
        "id": "4O7Kb-vTsVlH"
      },
      "execution_count": 60,
      "outputs": []
    },
    {
      "cell_type": "code",
      "source": [
        "fake_news_model.fit(\n",
        "    X_fake_news_train_padded, y_fake_news_train,\n",
        "    epochs=5,\n",
        "    batch_size=32,\n",
        "    validation_data=(X_fake_news_test_padded, y_fake_news_test),\n",
        "    verbose=1\n",
        ")"
      ],
      "metadata": {
        "colab": {
          "base_uri": "https://localhost:8080/"
        },
        "id": "-1Qvhlwfsa-K",
        "outputId": "7609d49f-07a8-44a6-bead-dcb67435c7db"
      },
      "execution_count": 61,
      "outputs": [
        {
          "output_type": "stream",
          "name": "stdout",
          "text": [
            "Epoch 1/5\n",
            "\u001b[1m791/791\u001b[0m \u001b[32m━━━━━━━━━━━━━━━━━━━━\u001b[0m\u001b[37m\u001b[0m \u001b[1m2s\u001b[0m 2ms/step - accuracy: 0.6058 - loss: 104.0676 - val_accuracy: 0.6435 - val_loss: 1.6223\n",
            "Epoch 2/5\n",
            "\u001b[1m791/791\u001b[0m \u001b[32m━━━━━━━━━━━━━━━━━━━━\u001b[0m\u001b[37m\u001b[0m \u001b[1m2s\u001b[0m 2ms/step - accuracy: 0.6568 - loss: 1.0426 - val_accuracy: 0.6430 - val_loss: 0.7004\n",
            "Epoch 3/5\n",
            "\u001b[1m791/791\u001b[0m \u001b[32m━━━━━━━━━━━━━━━━━━━━\u001b[0m\u001b[37m\u001b[0m \u001b[1m3s\u001b[0m 2ms/step - accuracy: 0.6467 - loss: 0.6763 - val_accuracy: 0.6422 - val_loss: 0.6787\n",
            "Epoch 4/5\n",
            "\u001b[1m791/791\u001b[0m \u001b[32m━━━━━━━━━━━━━━━━━━━━\u001b[0m\u001b[37m\u001b[0m \u001b[1m3s\u001b[0m 2ms/step - accuracy: 0.6506 - loss: 0.6440 - val_accuracy: 0.6420 - val_loss: 0.6708\n",
            "Epoch 5/5\n",
            "\u001b[1m791/791\u001b[0m \u001b[32m━━━━━━━━━━━━━━━━━━━━\u001b[0m\u001b[37m\u001b[0m \u001b[1m3s\u001b[0m 3ms/step - accuracy: 0.6506 - loss: 0.6427 - val_accuracy: 0.6420 - val_loss: 0.6706\n"
          ]
        },
        {
          "output_type": "execute_result",
          "data": {
            "text/plain": [
              "<keras.src.callbacks.history.History at 0x7d65c4634be0>"
            ]
          },
          "metadata": {},
          "execution_count": 61
        }
      ]
    },
    {
      "cell_type": "code",
      "source": [
        "# Predict fake news\n",
        "fake_news_predictions = fake_news_model.predict(X_fake_news_test_padded)\n",
        "fake_news_predicted_classes = np.argmax(fake_news_predictions, axis=1)"
      ],
      "metadata": {
        "colab": {
          "base_uri": "https://localhost:8080/"
        },
        "id": "HAj-OwtTsiA8",
        "outputId": "4db86c25-40a8-4989-9445-cbd72e18e858"
      },
      "execution_count": 62,
      "outputs": [
        {
          "output_type": "stream",
          "name": "stdout",
          "text": [
            "\u001b[1m198/198\u001b[0m \u001b[32m━━━━━━━━━━━━━━━━━━━━\u001b[0m\u001b[37m\u001b[0m \u001b[1m0s\u001b[0m 1ms/step\n"
          ]
        }
      ]
    },
    {
      "cell_type": "code",
      "source": [
        "# Evaluate fake news detection\n",
        "print(\"Fake News Detection Report:\")\n",
        "print(classification_report(y_fake_news_test, fake_news_predicted_classes, target_names=fake_news_encoder.classes_))"
      ],
      "metadata": {
        "colab": {
          "base_uri": "https://localhost:8080/"
        },
        "id": "jz7_JI9nsm5F",
        "outputId": "51c793d3-c4b1-446c-ba67-ba83e63a1bb5"
      },
      "execution_count": 63,
      "outputs": [
        {
          "output_type": "stream",
          "name": "stdout",
          "text": [
            "Fake News Detection Report:\n",
            "              precision    recall  f1-score   support\n",
            "\n",
            "       False       0.70      0.00      0.01      2267\n",
            "        True       0.64      1.00      0.78      4055\n",
            "\n",
            "    accuracy                           0.64      6322\n",
            "   macro avg       0.67      0.50      0.39      6322\n",
            "weighted avg       0.66      0.64      0.50      6322\n",
            "\n"
          ]
        }
      ]
    },
    {
      "cell_type": "code",
      "source": [
        "from sklearn.metrics import precision_recall_fscore_support\n",
        "# Predict fake news\n",
        "fake_news_predictions = fake_news_model.predict(X_fake_news_test_padded)\n",
        "fake_news_predicted_classes = np.argmax(fake_news_predictions, axis=1)\n",
        "\n",
        "# Calculate precision, recall, and F1-score\n",
        "precision, recall, f1, _ = precision_recall_fscore_support(y_fake_news_test, fake_news_predicted_classes, average='weighted')"
      ],
      "metadata": {
        "colab": {
          "base_uri": "https://localhost:8080/"
        },
        "id": "xTY-tBMSMNxk",
        "outputId": "41a30a81-3a1e-4351-c32f-fe5bd50b1e79"
      },
      "execution_count": 64,
      "outputs": [
        {
          "output_type": "stream",
          "name": "stdout",
          "text": [
            "\u001b[1m198/198\u001b[0m \u001b[32m━━━━━━━━━━━━━━━━━━━━\u001b[0m\u001b[37m\u001b[0m \u001b[1m0s\u001b[0m 2ms/step\n"
          ]
        }
      ]
    },
    {
      "cell_type": "code",
      "source": [
        "print(\"Fake News Detection Metrics:\")\n",
        "print(f\"Precision: {precision:.4f}\")\n",
        "print(f\"Recall: {recall:.4f}\")\n",
        "print(f\"F1-score: {f1:.4f}\")"
      ],
      "metadata": {
        "colab": {
          "base_uri": "https://localhost:8080/"
        },
        "id": "RBfuu8FXMVSY",
        "outputId": "7a76644d-72bb-4487-ba35-1aff51b952d5"
      },
      "execution_count": 65,
      "outputs": [
        {
          "output_type": "stream",
          "name": "stdout",
          "text": [
            "Fake News Detection Metrics:\n",
            "Precision: 0.6628\n",
            "Recall: 0.6420\n",
            "F1-score: 0.5036\n"
          ]
        }
      ]
    }
  ]
}